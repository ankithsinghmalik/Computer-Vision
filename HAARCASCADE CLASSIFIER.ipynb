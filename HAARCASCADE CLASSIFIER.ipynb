{
 "cells": [
  {
   "cell_type": "code",
   "execution_count": 1,
   "metadata": {},
   "outputs": [],
   "source": [
    "import cv2\n",
    "import numpy as np"
   ]
  },
  {
   "cell_type": "code",
   "execution_count": 3,
   "metadata": {},
   "outputs": [],
   "source": [
    "face_cascade = cv2.CascadeClassifier(\"C:/Users/mvcc1/anaconda3/Lib/site-packages/cv2/data/haarcascade_frontalface_default.xml\")\n",
    "eye_cascade = cv2.CascadeClassifier(\"C:/Users/mvcc1/anaconda3/Lib/site-packages/cv2/data/haarcascade_eye.xml\")"
   ]
  },
  {
   "cell_type": "code",
   "execution_count": 4,
   "metadata": {},
   "outputs": [],
   "source": [
    "def detect(gray,frame):\n",
    "    face = face_cascade.detectMultiScale(gray,1.1,4)\n",
    "    for (x,y,w,h) in face:\n",
    "        cv2.rectangle(frame,(x,y),(x+w,y+h),(255,0,0),3)\n",
    "        roi_frame = frame[y:y+h,x:x+w]\n",
    "        roi_gray = gray[y:y+h,x:x+w]\n",
    "        eye = eye_cascade.detectMultiScale(roi_gray,1.1,4)\n",
    "        for (ex,ey,ew,eh) in eye:\n",
    "            cv2.rectangle(roi_frame,(ex,ey),(ex+ew,ex+ey),(0,255,0),3)\n",
    "    return frame"
   ]
  },
  {
   "cell_type": "code",
   "execution_count": 9,
   "metadata": {},
   "outputs": [],
   "source": [
    "video_capture = cv2.VideoCapture(0)\n",
    "\n",
    "while(True):\n",
    "    _,frame = video_capture.read()\n",
    "    gray = cv2.cvtColor(frame,cv2.COLOR_BGR2GRAY)\n",
    "    detect_video = detect(gray,frame)\n",
    "    cv2.imshow('detected_video',detect_video)\n",
    "    if cv2.waitKey(1) & 0xFF == ord('q'):\n",
    "        break\n",
    "\n",
    "video_capture.release()\n",
    "cv2.destroyAllWindows()"
   ]
  },
  {
   "cell_type": "code",
   "execution_count": null,
   "metadata": {},
   "outputs": [],
   "source": []
  }
 ],
 "metadata": {
  "kernelspec": {
   "display_name": "Python 3",
   "language": "python",
   "name": "python3"
  },
  "language_info": {
   "codemirror_mode": {
    "name": "ipython",
    "version": 3
   },
   "file_extension": ".py",
   "mimetype": "text/x-python",
   "name": "python",
   "nbconvert_exporter": "python",
   "pygments_lexer": "ipython3",
   "version": "3.8.5"
  }
 },
 "nbformat": 4,
 "nbformat_minor": 4
}
